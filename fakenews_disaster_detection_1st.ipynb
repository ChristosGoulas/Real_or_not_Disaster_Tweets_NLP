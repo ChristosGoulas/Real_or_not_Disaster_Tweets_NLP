{
 "cells": [
  {
   "cell_type": "code",
   "execution_count": 1,
   "metadata": {},
   "outputs": [],
   "source": [
    "import numpy as np\n",
    "import pandas as pd\n",
    "from sklearn.naive_bayes import MultinomialNB\n",
    "from sklearn.feature_extraction.text import TfidfVectorizer\n",
    "from sklearn.model_selection import train_test_split\n",
    "import sklearn.metrics as metrics"
   ]
  },
  {
   "cell_type": "code",
   "execution_count": 2,
   "metadata": {
    "scrolled": true
   },
   "outputs": [
    {
     "name": "stdout",
     "output_type": "stream",
     "text": [
      "Training data \n",
      "    id keyword location                                               text  \\\n",
      "0   1     NaN      NaN  Our Deeds are the Reason of this #earthquake M...   \n",
      "1   4     NaN      NaN             Forest fire near La Ronge Sask. Canada   \n",
      "2   5     NaN      NaN  All residents asked to 'shelter in place' are ...   \n",
      "3   6     NaN      NaN  13,000 people receive #wildfires evacuation or...   \n",
      "4   7     NaN      NaN  Just got sent this photo from Ruby #Alaska as ...   \n",
      "\n",
      "   target  \n",
      "0       1  \n",
      "1       1  \n",
      "2       1  \n",
      "3       1  \n",
      "4       1  \n",
      "Test data \n",
      "    id keyword location                                               text\n",
      "0   0     NaN      NaN                 Just happened a terrible car crash\n",
      "1   2     NaN      NaN  Heard about #earthquake is different cities, s...\n",
      "2   3     NaN      NaN  there is a forest fire at spot pond, geese are...\n",
      "3   9     NaN      NaN           Apocalypse lighting. #Spokane #wildfires\n",
      "4  11     NaN      NaN      Typhoon Soudelor kills 28 in China and Taiwan\n",
      "Length of Training data \n",
      " 7613\n",
      "Length of Test data \n",
      " 3263\n"
     ]
    },
    {
     "data": {
      "text/plain": [
       "target\n",
       "0    4342\n",
       "1    3271\n",
       "dtype: int64"
      ]
     },
     "execution_count": 2,
     "metadata": {},
     "output_type": "execute_result"
    }
   ],
   "source": [
    "data = pd.read_csv('train.csv', names=['id','keyword', 'location', 'text', 'target'], skiprows = 1)\n",
    "test_data = pd.read_csv('test.csv', names=['id','keyword', 'location', 'text'], skiprows = 1)\n",
    "\n",
    "print(\"Training data \\n\",data.head())\n",
    "print(\"Test data \\n\",test_data.head())\n",
    "print(\"Length of Training data \\n\", len(data))\n",
    "print(\"Length of Test data \\n\", len(test_data))\n",
    "data.groupby('target').size() #0: fake 4342   1:real 3271"
   ]
  },
  {
   "cell_type": "code",
   "execution_count": 3,
   "metadata": {},
   "outputs": [
    {
     "name": "stdout",
     "output_type": "stream",
     "text": [
      "0    1\n",
      "1    1\n",
      "2    1\n",
      "3    1\n",
      "4    1\n",
      "Name: target, dtype: int64\n",
      "0    Our Deeds are the Reason of this #earthquake M...\n",
      "1               Forest fire near La Ronge Sask. Canada\n",
      "2    All residents asked to 'shelter in place' are ...\n",
      "3    13,000 people receive #wildfires evacuation or...\n",
      "4    Just got sent this photo from Ruby #Alaska as ...\n",
      "Name: text, dtype: object\n"
     ]
    }
   ],
   "source": [
    "data_y = data['target']\n",
    "data_x = data['text']\n",
    "test = test_data['text']\n",
    "print(data_y.head())\n",
    "print(data_x.head())"
   ]
  },
  {
   "cell_type": "code",
   "execution_count": 4,
   "metadata": {},
   "outputs": [
    {
     "name": "stdout",
     "output_type": "stream",
     "text": [
      "Test: \n",
      "   (0, 18386)\t0.5785569375412292\n",
      "  (0, 10427)\t0.3083617017638652\n",
      "  (0, 8653)\t0.5110962656217939\n",
      "  (0, 4918)\t0.38558648171231935\n",
      "  (0, 3849)\t0.4003605915876077\n",
      "  (1, 17643)\t0.3767157106501493\n",
      "  (1, 16324)\t0.4528914383610909\n",
      "  (1, 8790)\t0.36620811397756187\n",
      "  (1, 6311)\t0.3533478550014478\n",
      "  (1, 5721)\t0.41666332373627535\n",
      "  (1, 4302)\t0.46947119579851554\n",
      "  (2, 17771)\t0.3825599751462522\n",
      "  (2, 17492)\t0.3849686070180602\n",
      "  (2, 16457)\t0.355082996910584\n",
      "  (2, 14575)\t0.47133470551232504\n",
      "  (2, 7563)\t0.3270506235727493\n",
      "  (2, 7436)\t0.50024452753824\n",
      "  (3, 20344)\t0.4714105817569697\n",
      "  (3, 17477)\t0.5779957833582845\n",
      "  (3, 11311)\t0.5346584525727388\n",
      "  (3, 2091)\t0.3972823642198616\n",
      "  (4, 19209)\t0.3515887158571113\n",
      "  (4, 18164)\t0.4312148027573012\n",
      "  (4, 17354)\t0.39840731030347953\n",
      "  (4, 10713)\t0.380677754703344\n",
      "  :\t:\n",
      "  (3259, 8675)\t0.33402462992888626\n",
      "  (3259, 4307)\t0.21053575088136406\n",
      "  (3259, 3250)\t0.22578320086395248\n",
      "  (3259, 1939)\t0.15274089361180732\n",
      "  (3259, 631)\t0.33402462992888626\n",
      "  (3259, 347)\t0.33402462992888626\n",
      "  (3260, 11352)\t0.4889283137476456\n",
      "  (3260, 9192)\t0.12937920929911184\n",
      "  (3260, 8349)\t0.5176299132623366\n",
      "  (3260, 5563)\t0.46070027902027\n",
      "  (3260, 4177)\t0.5138332901084666\n",
      "  (3261, 20192)\t0.2985867877310264\n",
      "  (3261, 13851)\t0.37958517541431663\n",
      "  (3261, 12107)\t0.43944119641725254\n",
      "  (3261, 9950)\t0.32839720734860106\n",
      "  (3261, 9283)\t0.38482321834637917\n",
      "  (3261, 9192)\t0.08689979661257259\n",
      "  (3261, 8738)\t0.3145408517797346\n",
      "  (3261, 658)\t0.45959906704329856\n",
      "  (3262, 21089)\t0.46635515467309835\n",
      "  (3262, 14444)\t0.32861399603855745\n",
      "  (3262, 12727)\t0.4163850411619519\n",
      "  (3262, 6538)\t0.26726571683198225\n",
      "  (3262, 4309)\t0.4820439587998563\n",
      "  (3262, 1547)\t0.4442430271876084\n",
      "x_traincv: \n",
      "   (0, 7572)\t0.510614541608432\n",
      "  (0, 1844)\t0.44106404207379424\n",
      "  (0, 6311)\t0.3541772503550105\n",
      "  (0, 15499)\t0.3982041761665894\n",
      "  (0, 5429)\t0.510614541608432\n",
      "  (1, 3790)\t0.3963917852206896\n",
      "  (1, 16431)\t0.5020741962299169\n",
      "  (1, 16087)\t0.5020741962299169\n",
      "  (1, 10967)\t0.3694302900637648\n",
      "  (1, 12979)\t0.32208070183508675\n",
      "  (1, 7563)\t0.3138500244679633\n",
      "  (2, 6933)\t0.2449033113130173\n",
      "  (2, 13772)\t0.25473621653805173\n",
      "  (2, 6835)\t0.20595771688907502\n",
      "  (2, 13544)\t0.26859491807655017\n",
      "  (2, 13270)\t0.31597813160361593\n",
      "  (2, 14437)\t0.45661753789851744\n",
      "  (2, 16835)\t0.5568556466031692\n",
      "  (2, 2283)\t0.2645691217630861\n",
      "  (2, 15761)\t0.26859491807655017\n",
      "  (3, 3746)\t0.26053826137360353\n",
      "  (3, 20344)\t0.380803178556273\n",
      "  (3, 15520)\t0.44642400362054496\n",
      "  (3, 14216)\t0.2353365059281336\n",
      "  (3, 1)\t0.42062454399171406\n",
      "  :\t:\n",
      "  (7610, 7)\t0.30788899158603666\n",
      "  (7610, 9192)\t0.07575065044021201\n",
      "  (7611, 9724)\t0.20999092957296003\n",
      "  (7611, 17886)\t0.2918194521726667\n",
      "  (7611, 14607)\t0.3016366444554968\n",
      "  (7611, 4533)\t0.2107754502035924\n",
      "  (7611, 3001)\t0.5684092924946169\n",
      "  (7611, 13212)\t0.24906873489052014\n",
      "  (7611, 18591)\t0.26816570449953314\n",
      "  (7611, 9848)\t0.24451195682639956\n",
      "  (7611, 11391)\t0.2063180176083736\n",
      "  (7611, 15907)\t0.27798289678236326\n",
      "  (7611, 11294)\t0.1851932151911028\n",
      "  (7611, 14557)\t0.17302163120162395\n",
      "  (7611, 3849)\t0.18557029244730086\n",
      "  (7612, 20993)\t0.4897282944671096\n",
      "  (7612, 15428)\t0.3412215575810274\n",
      "  (7612, 9060)\t0.30955141528442076\n",
      "  (7612, 20343)\t0.29989301401433327\n",
      "  (7612, 1434)\t0.35185199609857115\n",
      "  (7612, 13240)\t0.3053111893723032\n",
      "  (7612, 11062)\t0.30955141528442076\n",
      "  (7612, 13050)\t0.2487682939538382\n",
      "  (7612, 9192)\t0.09259655259614481\n",
      "  (7612, 3746)\t0.27327556391427205\n"
     ]
    }
   ],
   "source": [
    "cv = TfidfVectorizer(min_df = 1 , stop_words = 'english')\n",
    "x_traincv = cv.fit_transform(data_x)\n",
    "y_train = data_y\n",
    "test = cv.transform(test)\n",
    "print(\"Test: \\n\", test)\n",
    "print(\"x_traincv: \\n\", x_traincv)"
   ]
  },
  {
   "cell_type": "code",
   "execution_count": 5,
   "metadata": {},
   "outputs": [
    {
     "name": "stdout",
     "output_type": "stream",
     "text": [
      "3263\n",
      "[0 1 1 ... 1 1 1]\n",
      "fakenews rows\n",
      "[   1    7    8 ... 3251 3252 3257]\n",
      "2200\n"
     ]
    }
   ],
   "source": [
    "clf = MultinomialNB()\n",
    "clf.fit(x_traincv, y_train)\n",
    "predictions = clf.predict(test)\n",
    "print(len(predictions))\n",
    "print(predictions)\n",
    "position_of_fakenews = np.where(predictions == 0)[0]\n",
    "for i in range(0 , len(position_of_fakenews)):\n",
    "    position_of_fakenews[i] += 1\n",
    "print('fakenews rows')\n",
    "print(position_of_fakenews)\n",
    "print(len(position_of_fakenews))"
   ]
  },
  {
   "cell_type": "code",
   "execution_count": 6,
   "metadata": {
    "scrolled": true
   },
   "outputs": [
    {
     "name": "stdout",
     "output_type": "stream",
     "text": [
      "[0 1 1 ... 1 1 1]\n",
      "3263\n",
      "       target\n",
      "id           \n",
      "0           0\n",
      "2           1\n",
      "3           1\n",
      "9           1\n",
      "11          1\n",
      "...       ...\n",
      "10861       1\n",
      "10865       1\n",
      "10868       1\n",
      "10874       1\n",
      "10875       1\n",
      "\n",
      "[3263 rows x 1 columns]\n"
     ]
    }
   ],
   "source": [
    "pred = np.array(predictions)\n",
    "\n",
    "ids = list(test_data['id'])\n",
    "print(pred)\n",
    "print(len(pred))\n",
    "to_submit = pd.DataFrame({'id': ids, 'target': pred})\n",
    "to_submit.set_index('id', inplace = True)\n",
    "print(to_submit)\n",
    "#to_submit.index += 1"
   ]
  },
  {
   "cell_type": "code",
   "execution_count": 7,
   "metadata": {},
   "outputs": [],
   "source": [
    "to_submit.target = to_submit#.target.astype(bool)\n",
    "to_submit = pd.DataFrame(to_submit)\n",
    "to_submit.target.to_csv('nlp.csv', header = 'False')"
   ]
  },
  {
   "cell_type": "code",
   "execution_count": null,
   "metadata": {},
   "outputs": [],
   "source": []
  }
 ],
 "metadata": {
  "kernelspec": {
   "display_name": "Python 3",
   "language": "python",
   "name": "python3"
  },
  "language_info": {
   "codemirror_mode": {
    "name": "ipython",
    "version": 3
   },
   "file_extension": ".py",
   "mimetype": "text/x-python",
   "name": "python",
   "nbconvert_exporter": "python",
   "pygments_lexer": "ipython3",
   "version": "3.7.4"
  }
 },
 "nbformat": 4,
 "nbformat_minor": 2
}
